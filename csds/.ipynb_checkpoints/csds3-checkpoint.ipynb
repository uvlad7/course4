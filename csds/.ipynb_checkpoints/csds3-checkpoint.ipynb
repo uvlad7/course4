{
 "cells": [
  {
   "cell_type": "markdown",
   "metadata": {},
   "source": [
    "Вариант $4, M = 61$\n"
   ]
  },
  {
   "cell_type": "markdown",
   "metadata": {},
   "source": [
    "$$y^2=x^3+ax+b$$\n",
    "$$4a^3 + 27b^2 \\neq 0(mod M)$$"
   ]
  },
  {
   "cell_type": "markdown",
   "metadata": {},
   "source": [
    "Возьмем $a = 2, b = -5$: $$4*2^3+27*(-5)^2 \\mod 61 = 36$$"
   ]
  },
  {
   "cell_type": "code",
   "execution_count": 2,
   "metadata": {},
   "outputs": [
    {
     "data": {
      "text/plain": [
       ":generate_group"
      ]
     },
     "execution_count": 2,
     "metadata": {},
     "output_type": "execute_result"
    }
   ],
   "source": [
    "def generate_group(a, b, m)\n",
    "    em_group = ['O']\n",
    "    m.times do |x|\n",
    "        y_2 = x**3 + a*x + b\n",
    "        m.times do |y|\n",
    "            if y_2 % m == y**2 % m\n",
    "                em_group.push([x, y])\n",
    "            end\n",
    "        end\n",
    "    end\n",
    "    em_group\n",
    "end"
   ]
  },
  {
   "cell_type": "code",
   "execution_count": 3,
   "metadata": {},
   "outputs": [
    {
     "data": {
      "text/plain": [
       "true"
      ]
     },
     "execution_count": 3,
     "metadata": {},
     "output_type": "execute_result"
    }
   ],
   "source": [
    "generate_group(1, 0, 23).size == 24"
   ]
  },
  {
   "cell_type": "code",
   "execution_count": 4,
   "metadata": {},
   "outputs": [
    {
     "data": {
      "text/plain": [
       "[\"O\", [0, 19], [0, 42], [7, 13], [7, 48], [10, 10], [10, 51], [12, 10], [12, 51], [13, 12], [13, 49], [14, 12], [14, 49], [15, 17], [15, 44], [16, 6], [16, 55], [17, 1], [17, 60], [19, 11], [19, 50], [22, 16], [22, 45], [24, 9], [24, 52], [29, 15], [29, 46], [31, 18], [31, 43], [32, 3], [32, 58], [34, 12], [34, 49], [35, 22], [35, 39], [36, 27], [36, 34], [39, 10], [39, 51], [40, 5], [40, 56], [42, 28], [42, 33], [45, 25], [45, 36], [49, 16], [49, 45], [50, 17], [50, 44], [51, 16], [51, 45], [52, 23], [52, 38], [53, 4], [53, 57], [54, 2], [54, 59], [57, 17], [57, 44]]"
      ]
     },
     "execution_count": 4,
     "metadata": {},
     "output_type": "execute_result"
    }
   ],
   "source": [
    "a = 2\n",
    "b = -5\n",
    "m = 61\n",
    "em_g = generate_group(a, b, m)\n",
    "em_g"
   ]
  },
  {
   "cell_type": "code",
   "execution_count": 5,
   "metadata": {},
   "outputs": [
    {
     "data": {
      "text/plain": [
       ":bits"
      ]
     },
     "execution_count": 5,
     "metadata": {},
     "output_type": "execute_result"
    }
   ],
   "source": [
    "def bits(n)\n",
    "    while n > 0\n",
    "        yield n & 1\n",
    "        n >>= 1\n",
    "    end\n",
    "end"
   ]
  },
  {
   "cell_type": "code",
   "execution_count": 6,
   "metadata": {},
   "outputs": [
    {
     "data": {
      "text/plain": [
       ":inverse_of"
      ]
     },
     "execution_count": 6,
     "metadata": {},
     "output_type": "execute_result"
    }
   ],
   "source": [
    "def extended_eucledian_algorithm(a, m)\n",
    "  r0, r1 = a, m\n",
    "  s, t = 1, 0\n",
    "  until r1.zero?\n",
    "    q, r2 = r0.divmod(r1) # Euclidean algorithm\n",
    "    r0, r1 = r1, r2\n",
    "    s, t = t, s - q * t # extended Euclidean algorithm\n",
    "  end\n",
    "  gcd = r0\n",
    "  t = (gcd - s * a) / m # from Bézout's Identity\n",
    "  [gcd, s, t]\n",
    "end\n",
    "\n",
    "def inverse_of(n, p)\n",
    "    gcd, x, y = extended_eucledian_algorithm(n, p)\n",
    "    raise RuntimeError unless (n*x + p*y) % p == gcd && gcd == 1\n",
    "    x % p\n",
    "end"
   ]
  },
  {
   "cell_type": "code",
   "execution_count": 7,
   "metadata": {},
   "outputs": [
    {
     "data": {
      "text/plain": [
       "true"
      ]
     },
     "execution_count": 7,
     "metadata": {},
     "output_type": "execute_result"
    }
   ],
   "source": [
    "def get_lambda(p1, p2, m, a = 1)\n",
    "    x1, y1 = p1\n",
    "    x2, y2 = p2\n",
    "    \n",
    "    if p1 != p2\n",
    "        ((y2-y1)*inverse_of((x2-x1+m)%m, m))%m\n",
    "    else\n",
    "        ((3*x1*x1+a)*inverse_of((2*y1)%m, m))%m\n",
    "    end\n",
    "end\n",
    "\n",
    "get_lambda([16, 5], [16, 5], 23, 9) == 11"
   ]
  },
  {
   "cell_type": "code",
   "execution_count": 8,
   "metadata": {},
   "outputs": [
    {
     "data": {
      "text/plain": [
       "true"
      ]
     },
     "execution_count": 8,
     "metadata": {},
     "output_type": "execute_result"
    }
   ],
   "source": [
    "def point_add(p1, p2, m, a = 1)\n",
    "    return p2 if p1 == 'O'\n",
    "    return p1  if p2 == 'O'\n",
    "    begin\n",
    "        l = get_lambda(p1, p2, m, a)\n",
    "    rescue\n",
    "        return 'O'\n",
    "    end\n",
    "    x_3 = (l**2 - p1[0] - p2[0])%m\n",
    "    y_3 = (-(p1[1]+l*((x_3-p1[0])%m)))%m\n",
    "    [x_3, y_3]\n",
    "end\n",
    "\n",
    "def point_multiply(n, p, m, a = 1)\n",
    "    result = 'O'\n",
    "    addend = p\n",
    "    bits(n) do |bit|\n",
    "        result = result == 0 ? addend : point_add(result, addend, m, a) if bit == 1                \n",
    "        addend = point_add(addend, addend, m, a)\n",
    "    end\n",
    "    result\n",
    "end\n",
    "\n",
    "point_add([16, 5], [16, 5], 23, 9) == [20, 20]"
   ]
  },
  {
   "cell_type": "code",
   "execution_count": 9,
   "metadata": {},
   "outputs": [
    {
     "data": {
      "text/plain": [
       "\"O\""
      ]
     },
     "execution_count": 9,
     "metadata": {},
     "output_type": "execute_result"
    }
   ],
   "source": [
    "point_multiply(241, [52, 194], 211, 0)"
   ]
  },
  {
   "cell_type": "code",
   "execution_count": 10,
   "metadata": {},
   "outputs": [
    {
     "data": {
      "text/plain": [
       ":factors"
      ]
     },
     "execution_count": 10,
     "metadata": {},
     "output_type": "execute_result"
    }
   ],
   "source": [
    "def factors(n)\n",
    "    factors_arr = []\n",
    "    (2...(n-1)).each do |i|\n",
    "        if n%i == 0\n",
    "            flag = false\n",
    "            factors_arr.each do |j|\n",
    "                if i%j == 0\n",
    "                    flag = true;\n",
    "                    break;\n",
    "                end\n",
    "            end\n",
    "            factors_arr.push(i) unless flag\n",
    "        end\n",
    "    end\n",
    "    factors_arr.any? ? factors_arr.sort : [n]\n",
    "end "
   ]
  },
  {
   "cell_type": "code",
   "execution_count": 11,
   "metadata": {},
   "outputs": [
    {
     "data": {
      "text/plain": [
       "[59]"
      ]
     },
     "execution_count": 11,
     "metadata": {},
     "output_type": "execute_result"
    }
   ],
   "source": [
    "factors(59)"
   ]
  },
  {
   "cell_type": "code",
   "execution_count": 12,
   "metadata": {},
   "outputs": [
    {
     "data": {
      "text/plain": [
       ":get_gen_point"
      ]
     },
     "execution_count": 12,
     "metadata": {},
     "output_type": "execute_result"
    }
   ],
   "source": [
    "def get_gen_point(group, c, m, a)\n",
    "    h = group.size / c\n",
    "    group.shuffle!\n",
    "    group.each do |i|\n",
    "        return i unless point_multiply(h, i, m, a) == 'O'\n",
    "    end\n",
    "end"
   ]
  },
  {
   "cell_type": "code",
   "execution_count": 13,
   "metadata": {},
   "outputs": [
    {
     "data": {
      "text/plain": [
       "[59]"
      ]
     },
     "execution_count": 13,
     "metadata": {},
     "output_type": "execute_result"
    }
   ],
   "source": [
    "factors(em_g.size)"
   ]
  },
  {
   "cell_type": "code",
   "execution_count": 19,
   "metadata": {},
   "outputs": [
    {
     "data": {
      "text/plain": [
       "[19, 11]"
      ]
     },
     "execution_count": 19,
     "metadata": {},
     "output_type": "execute_result"
    }
   ],
   "source": [
    "g = get_gen_point(em_g, factors(em_g.size)[-1], m, a)"
   ]
  },
  {
   "cell_type": "code",
   "execution_count": 20,
   "metadata": {},
   "outputs": [
    {
     "data": {
      "text/plain": [
       ":verify_sign"
      ]
     },
     "execution_count": 20,
     "metadata": {},
     "output_type": "execute_result"
    }
   ],
   "source": [
    "require 'digest/sha1'\n",
    "\n",
    "class Client\n",
    "    def initialize(g, m, a, q)\n",
    "        @g = g\n",
    "        @m = m\n",
    "        @a = a\n",
    "        @q = q\n",
    "    end\n",
    "        \n",
    "    def generate_keys\n",
    "        @nU = rand(0..(@m/@a))\n",
    "        @nUG = point_multiply(@nU, @g, @m, @a)\n",
    "        puts \"Keys generated: #{@nU}, #{@nUG}\"\n",
    "    end\n",
    "        \n",
    "    def get_pub_key\n",
    "        @nUG\n",
    "    end\n",
    "    \n",
    "    def set_common_priv(pub_key)\n",
    "        @pub_key = pub_key\n",
    "        @common_priv = point_multiply(@nU, pub_key, @m, @a)\n",
    "        puts \"Common private key set: #{@common_priv}\"\n",
    "    end\n",
    "        \n",
    "    def sign_message(msg)\n",
    "        m = Digest::SHA1.digest msg.encode\n",
    "        q_len = @q.to_s(2).size\n",
    "        h_m = m.unpack(\"C*\").inject(0) { |sum, (byte, index)| sum * 256 + byte }.to_s(2)[0...q_len].to_i(2)\n",
    "        r = 0\n",
    "        s = 0\n",
    "        while r == 0 || s == 0 do\n",
    "            k = rand(1...@q)\n",
    "            k_g = point_multiply(k, @g, @m, @a)\n",
    "            next if k_g == 'O' || k_g[0] % @q == 0\n",
    "            r = k_g[0] % @q\n",
    "            s = (inverse_of(k, @q)*(h_m+@nU*r))% @q\n",
    "        end\n",
    "        puts \"Sign is #{r} #{s}\"\n",
    "        [msg, [r, s]]\n",
    "    end\n",
    "    \n",
    "    def verify_sign(msg_cort)\n",
    "        msg, sign = msg_cort\n",
    "        m = Digest::SHA1.digest msg.encode\n",
    "        q_len = @q.to_s(2).size\n",
    "        h_m = m.unpack(\"C*\").inject(0) { |sum, (byte, index)| sum * 256 + byte }.to_s(2)[0...q_len].to_i(2)\n",
    "        r, s = sign\n",
    "        return false unless (1...@q).cover?(r) && (1...@q).cover?(s)\n",
    "        w = inverse_of(s, @q) % @q\n",
    "        u_1 = (h_m * w) % @q\n",
    "        u_2 = (r * w) % @q\n",
    "        p = point_add(point_multiply(u_1, @g, @m, @a), point_multiply(u_2, @pub_key, @m, @a), @m, @a)\n",
    "        return false if p == 'O'\n",
    "        puts \"r* is #{p[0]}\"\n",
    "        p[0] % @q == r\n",
    "    end\n",
    "end"
   ]
  },
  {
   "cell_type": "markdown",
   "metadata": {},
   "source": [
    "### Key exchange"
   ]
  },
  {
   "cell_type": "code",
   "execution_count": 27,
   "metadata": {},
   "outputs": [
    {
     "name": "stdout",
     "output_type": "stream",
     "text": [
      "Keys generated: 21, [54, 59]\n",
      "Keys generated: 11, [52, 38]\n",
      "Common private key set: [42, 33]\n",
      "Common private key set: [42, 33]\n"
     ]
    }
   ],
   "source": [
    "client_A = Client.new(g, m, a, em_g.size)\n",
    "client_B = Client.new(g, m, a, em_g.size)\n",
    "client_A.generate_keys\n",
    "client_B.generate_keys\n",
    "client_A.set_common_priv client_B.get_pub_key\n",
    "client_B.set_common_priv client_A.get_pub_key"
   ]
  },
  {
   "cell_type": "markdown",
   "metadata": {},
   "source": [
    "### ECDSA"
   ]
  },
  {
   "cell_type": "code",
   "execution_count": 35,
   "metadata": {},
   "outputs": [
    {
     "name": "stdout",
     "output_type": "stream",
     "text": [
      "Sign is 19 14\n"
     ]
    },
    {
     "data": {
      "text/plain": [
       "[\"Подписанное сообщение\", [19, 14]]"
      ]
     },
     "execution_count": 35,
     "metadata": {},
     "output_type": "execute_result"
    }
   ],
   "source": [
    "message = 'Подписанное сообщение'\n",
    "client_A.sign_message message"
   ]
  },
  {
   "cell_type": "code",
   "execution_count": 36,
   "metadata": {},
   "outputs": [
    {
     "name": "stdout",
     "output_type": "stream",
     "text": [
      "Sign is 31 49\n",
      "r* is 31\n"
     ]
    },
    {
     "data": {
      "text/plain": [
       "true"
      ]
     },
     "execution_count": 36,
     "metadata": {},
     "output_type": "execute_result"
    }
   ],
   "source": [
    "client_B.verify_sign(client_A.sign_message(message))"
   ]
  }
 ],
 "metadata": {
  "kernelspec": {
   "display_name": "Ruby 2.7.1",
   "language": "ruby",
   "name": "ruby"
  },
  "language_info": {
   "file_extension": ".rb",
   "mimetype": "application/x-ruby",
   "name": "ruby",
   "version": "2.7.1"
  }
 },
 "nbformat": 4,
 "nbformat_minor": 4
}
